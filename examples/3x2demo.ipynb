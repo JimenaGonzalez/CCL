{
 "cells": [
  {
   "cell_type": "markdown",
   "metadata": {},
   "source": [
    "# Cosmology with LSST\n",
    "\n",
    "Our goal is to constrain cosmological parameters with LSST using galaxy shapes and galaxy positions. We know these observables are sensitive to the growth and expansion history of the Universe. While we cannot predict where a given galaxy will form in the Universe, we can predict, given a cosmological model, the statistics of how galaxy pairs are distributed, and of how galaxy shapes relate to galaxy positions and to one another. In this example, we are going to choose a cosmological model and we are going to plot the angular correlations of those observables."
   ]
  },
  {
   "cell_type": "markdown",
   "metadata": {},
   "source": [
    "# Using the Core Cosmology Library (CCL)\n",
    "\n",
    "The first thing to do will be to be able to call the library from this notebook. For that, we are going to import it as we import any other module."
   ]
  },
  {
   "cell_type": "code",
   "execution_count": 1,
   "metadata": {},
   "outputs": [],
   "source": [
    "import pyccl as ccl"
   ]
  },
  {
   "cell_type": "markdown",
   "metadata": {},
   "source": [
    "Let's also import some additional modules we will need. These are standard ones that come with python."
   ]
  },
  {
   "cell_type": "code",
   "execution_count": 2,
   "metadata": {},
   "outputs": [],
   "source": [
    "from matplotlib import pyplot as plt\n",
    "import numpy as np\n",
    "%matplotlib inline"
   ]
  },
  {
   "cell_type": "markdown",
   "metadata": {},
   "source": [
    "We now need to decide which cosmology we are going to be working with. Let's start with a flat LCDM cosmology:"
   ]
  },
  {
   "cell_type": "code",
   "execution_count": 3,
   "metadata": {},
   "outputs": [],
   "source": [
    "cosmo_fid = ccl.Cosmology(Omega_c=0.222, Omega_b=0.045, h=0.71, sigma8=0.806, n_s=0.963)"
   ]
  },
  {
   "cell_type": "markdown",
   "metadata": {},
   "source": [
    "Let's see what's inside this object. It contains all the parameters that CCL needs to perform its computations. Because we haven't provided all of them, CCL is making some assumptions about what values to adopt. "
   ]
  },
  {
   "cell_type": "code",
   "execution_count": 4,
   "metadata": {},
   "outputs": [
    {
     "name": "stdout",
     "output_type": "stream",
     "text": [
      "pyccl.Cosmology(wa=0.0, n_s=0.963, Neff=3.046, sigma8=0.806, w0=-1.0, bcm_etab=0.5, bcm_log10Mc=14.079181246047625, A_s=None, h=0.71, Omega_k=0.0, bcm_ks=55.0, Omega_c=0.222, Omega_b=0.045, Omega_g=None, m_nu=0.0, mnu_type=None, z_mg=None, df_mg=None, matter_power_spectrum='halofit', baryons_power_spectrum='nobaryons', halo_concentration='duffy2008', transfer_function='boltzmann_class', mass_function='tinker10', emulator_neutrinos='strict')\n"
     ]
    }
   ],
   "source": [
    "print(cosmo_fid)"
   ]
  },
  {
   "cell_type": "markdown",
   "metadata": {},
   "source": [
    "# Defining our sample of galaxies"
   ]
  },
  {
   "cell_type": "markdown",
   "metadata": {},
   "source": [
    "With this cosmology in place, we can make CCL give us some basic computations. To do this, we are going to have to decide at what redshift we need to evaluate the functions. For the observables we are interested in, we expect that LSST will roughly cover the range between 0<z<3. "
   ]
  },
  {
   "cell_type": "code",
   "execution_count": 6,
   "metadata": {},
   "outputs": [],
   "source": [
    "nz = 25\n",
    "z = np.linspace(0.1,3.,nz)"
   ]
  },
  {
   "cell_type": "markdown",
   "metadata": {},
   "source": [
    "The galaxies that we are observing have some redshift distribution, and it is through these galaxies that we plan to constrain cosmology. To illustrate our example, we are going to assume we have the same sample to probe galaxy shapes and galaxy positions, and we'll use pre-defined redshift distributions for this. (We can't measure the shapes for all galaxies for which we have positions, so usually the first will be a fraction of the second.) You could, if you wanted, pass your own redshift distribution to CCL."
   ]
  },
  {
   "cell_type": "code",
   "execution_count": 7,
   "metadata": {},
   "outputs": [],
   "source": [
    "pz = ccl.PhotoZGaussian(sigma_z0=0.05)\n",
    "dNdz_true = ccl.dNdzSmail(alpha = 1.24, beta = 1.01, z0=0.51)\n",
    "\n",
    "dNdz_shape = ccl.dNdz_tomog(z=z, zmin=0.1, zmax=3., pz_func=pz, dNdz_func = dNdz_true)\n",
    "dNdz_pos = ccl.dNdz_tomog(z=z, zmin=0.1, zmax=3., pz_func=pz, dNdz_func = dNdz_true)"
   ]
  },
  {
   "cell_type": "markdown",
   "metadata": {},
   "source": [
    "Let's take a look at the redshift distributions we have defined:"
   ]
  },
  {
   "cell_type": "code",
   "execution_count": 8,
   "metadata": {},
   "outputs": [
    {
     "data": {
      "image/png": "[encoded data removed]",
      "text/plain": [
       "<matplotlib.figure.Figure at 0x7fc739bc0610>"
      ]
     },
     "metadata": {},
     "output_type": "display_data"
    }
   ],
   "source": [
    "plt.plot(z, dNdz_shape, 'k-', label='shapes')\n",
    "plt.plot(z, dNdz_pos, 'r-', label='positions')\n",
    "plt.legend(loc='upper right', prop={'size':12})\n",
    "plt.xlabel(r'$z$', fontsize=22)\n",
    "plt.ylabel(r'$dN/dz$', fontsize=22)\n",
    "plt.xticks(fontsize=14)\n",
    "plt.yticks(fontsize=14)\n",
    "plt.show()"
   ]
  },
  {
   "cell_type": "markdown",
   "metadata": {},
   "source": [
    "# 3x2 correlations with CCL"
   ]
  },
  {
   "cell_type": "markdown",
   "metadata": {},
   "source": [
    "With two samples of galaxies, there are three types of correlations we can perform. We could measure and model the auto-correlations of galaxy positions (\"clustering\"), the auto-correlations of galaxy shapes (\"cosmic shear\") and the cross-correlation between positions and shapes. Normally, to gain information on the expansion history of the Universe, we would split the sample into different redshift bins with a sufficient number of galaxies to have a significant measurement in each one. But for now, let's just take the full redshift distribution.\n",
    "\n",
    "Correlations are expressed in different forms. Here, we are going to express them in terms of \"angular power spectra\", or C_ell. Imagine that we took the sphere of the sky and expanded any function of the coordinates of the sphere into a basis of spherical harmonics. Each harmonic would contribute to the expansion with a given amplitude. What we are going to plot is the square of that amplitude as a function of multipole index."
   ]
  },
  {
   "cell_type": "markdown",
   "metadata": {},
   "source": [
    "## Galaxy positions\n",
    "\n",
    "To model galaxy positions we need to define a \"bias\" parameter. This parameter tells us how the galaxies are connected to the density field. To make it simple, we'll take a one-to-one relation. Galaxies are simply tracing the density field in this model:"
   ]
  },
  {
   "cell_type": "code",
   "execution_count": 9,
   "metadata": {},
   "outputs": [],
   "source": [
    "bias_gal = np.ones(z.size)"
   ]
  },
  {
   "cell_type": "markdown",
   "metadata": {},
   "source": [
    "We know need to define a convenience function, called a \"tracer\" which will store this information. "
   ]
  },
  {
   "cell_type": "code",
   "execution_count": 10,
   "metadata": {},
   "outputs": [],
   "source": [
    "gal_pos = ccl.NumberCountsTracer(cosmo_fid, has_rsd=False, dndz=(z, dNdz_pos), bias=(z, bias_gal))"
   ]
  },
  {
   "cell_type": "markdown",
   "metadata": {},
   "source": [
    "The \"False\" statements above control the modeling of potential contributions to the signal, like redshift-space distortions."
   ]
  },
  {
   "cell_type": "code",
   "execution_count": 11,
   "metadata": {},
   "outputs": [],
   "source": [
    "gal_shapes = ccl.WeakLensingTracer(cosmo_fid, dndz=(z, dNdz_shape))"
   ]
  },
  {
   "cell_type": "markdown",
   "metadata": {},
   "source": [
    "## Angular power spectra\n",
    "\n",
    "We are now ready to compute angular power spectra, C_ell. These are a function of multipole number, with high ell correponding to small scales on the sky and low ell, to large separations on the sky."
   ]
  },
  {
   "cell_type": "code",
   "execution_count": 12,
   "metadata": {},
   "outputs": [],
   "source": [
    "ell=np.arange(100,5000)\n",
    "cls_auto_pos = ccl.angular_cl(cosmo_fid, gal_pos, gal_pos, ell)\n",
    "cls_auto_shape = ccl.angular_cl(cosmo_fid, gal_shapes, gal_shapes, ell)\n",
    "cls_pos_shape = ccl.angular_cl(cosmo_fid, gal_pos, gal_shapes, ell)"
   ]
  },
  {
   "cell_type": "markdown",
   "metadata": {},
   "source": [
    "We know have three correlations we can plot, and which we can fit to our observables. Varying the cosmology will result in these curves changing shape and moving up and down. See our likelihood notebook for an example of how to make fits to your data."
   ]
  },
  {
   "cell_type": "code",
   "execution_count": 13,
   "metadata": {},
   "outputs": [
    {
     "data": {
      "image/png": "[encoded data removed]",
      "text/plain": [
       "<matplotlib.figure.Figure at 0x7fc735ee39d0>"
      ]
     },
     "metadata": {},
     "output_type": "display_data"
    }
   ],
   "source": [
    "plt.plot(ell, cls_auto_pos, 'r-', label='positions')\n",
    "plt.plot(ell, cls_auto_shape, 'k-', label='shapes')\n",
    "plt.plot(ell, cls_pos_shape, 'b-', label='pos x shape')\n",
    "plt.legend(loc='upper right', prop={'size':12})\n",
    "plt.xlabel(r'$l$', fontsize=22)\n",
    "plt.ylabel(r'$C_l$', fontsize=22)\n",
    "plt.xticks(fontsize=14)\n",
    "plt.yticks(fontsize=14)\n",
    "plt.gca().set_yscale('log')\n",
    "plt.gca().set_xscale('log')\n",
    "plt.show()"
   ]
  },
  {
   "cell_type": "code",
   "execution_count": null,
   "metadata": {},
   "outputs": [],
   "source": []
  }
 ],
 "metadata": {
  "kernelspec": {
   "display_name": "Python 2",
   "language": "python",
   "name": "python2"
  },
  "language_info": {
   "codemirror_mode": {
    "name": "ipython",
    "version": 2
   },
   "file_extension": ".py",
   "mimetype": "text/x-python",
   "name": "python",
   "nbconvert_exporter": "python",
   "pygments_lexer": "ipython2",
   "version": "2.7.15"
  }
 },
 "nbformat": 4,
 "nbformat_minor": 1
}
