{
 "cells": [
  {
   "cell_type": "code",
   "execution_count": 1,
   "metadata": {
    "collapsed": true
   },
   "outputs": [],
   "source": [
    "from pyccl import Parameters, Cosmology"
   ]
  },
  {
   "cell_type": "markdown",
   "metadata": {},
   "source": [
    "# Parameter objects\n",
    "\n",
    "Parameter objects hold a set of cosmological parameters.  \n",
    "\n",
    "The minimal set of required parameters is shown below though sigma8 can be swapped out for A_s.\n",
    "\n",
    "A range of optional parameters can be used to specify further parameters, that otherwise take default values, like the equation of state w, which defaults to -1.  The docstring for the Parameters objects lists them all."
   ]
  },
  {
   "cell_type": "code",
   "execution_count": 2,
   "metadata": {
    "collapsed": false
   },
   "outputs": [
    {
     "name": "stdout",
     "output_type": "stream",
     "text": [
      "A set of cosmological parameters.\n",
      "\n",
      "    .. note:: Although some arguments default to `None`, they will raise a\n",
      "              ValueError inside this function if not specified, so they are not\n",
      "              optional.\n",
      "\n",
      "    .. note:: BCM stands for the \"baryonic correction model\" of Schneider &\n",
      "              Teyssier (2015; https://arxiv.org/abs/1510.06034). See the\n",
      "              `DESC Note <https://github.com/LSSTDESC/CCL/blob/master/doc/0000-ccl_note/main.pdf>`_\n",
      "              for details.\n",
      "\n",
      "    Args:\n",
      "        Omega_c (float): Cold dark matter density fraction.\n",
      "        Omega_b (float): Baryonic matter density fraction.\n",
      "        h (float): Hubble constant divided by 100 km/s/Mpc; unitless.\n",
      "        A_s (float): Power spectrum normalization. Exactly one of A_s\n",
      "                     and sigma_8 is required.\n",
      "        n_s (float): Primordial scalar perturbation spectral index.\n",
      "        Omega_k (float, optional): Curvature density fraction. Defaults to 0.\n",
      "        N_nu_rel (float, optional): Effective number of massless neutrinos\n",
      "                                    present. Defaults to 3.046.\n",
      "        N_nu_mass (float, optional): Number of massive neutrinos present.\n",
      "                                     Defaults to 0.\n",
      "        m_nu (float, optional): total mass in eV of the massive neutrinos\n",
      "                                present. Defaults to 0.\n",
      "        mnu_type (:obj:`str`, optional): The type of massive neutrinos.\n",
      "        w0 (float, optional): First order term of dark energy equation of\n",
      "                              state. Defaults to -1.\n",
      "        wa (float, optional): Second order term of dark energy equation of\n",
      "                              state. Defaults to 0.\n",
      "        bcm_log10Mc (float, optional): One of the parameters of the BCM model.\n",
      "                                       Defaults to `np.log10(1.2e14)`.\n",
      "        bcm_etab (float, optional): One of the parameters of the BCM model.\n",
      "                                    Defaults to 0.5.\n",
      "        bcm_ks (float, optional): One of the parameters of the BCM model.\n",
      "                                  Defaults to 55.0.\n",
      "        sigma8 (float): Variance of matter density perturbations at 8 Mpc/h\n",
      "                        scale. Exactly one of A_s and sigma_8 is required.\n",
      "        df_mg (array_like): Perturbations to the GR growth rate as\n",
      "                            a function of redshift :math:`\\Delta f`.\n",
      "                            Used to implement simple modified growth\n",
      "                            scenarios.\n",
      "        z_mg (array_like): Array of redshifts corresponding to df_mg.\n",
      "    \n"
     ]
    }
   ],
   "source": [
    "params = Parameters(Omega_c=0.25, Omega_b=0.05, sigma8=0.8, h=0.7, n_s=0.96)\n",
    "print(params.__doc__)"
   ]
  },
  {
   "cell_type": "markdown",
   "metadata": {},
   "source": [
    "# Serialization\n",
    "\n",
    "Parameters objects can be saved to a simple yaml format using the write_yaml method.\n",
    "This format is not currently robust at all - the exact order of the parameters must be maintained or\n",
    "the object cannot be read back in.\n"
   ]
  },
  {
   "cell_type": "code",
   "execution_count": 3,
   "metadata": {
    "collapsed": false
   },
   "outputs": [
    {
     "name": "stdout",
     "output_type": "stream",
     "text": [
      "Omega_c: 2.500000e-01\r\n",
      "Omega_b: 5.000000e-02\r\n",
      "Omega_m: 3.000000e-01\r\n",
      "Omega_k: 0.000000e+00\r\n",
      "k_sign: 0\r\n",
      "w0: -1.000000e+00\r\n",
      "wa: 0.000000e+00\r\n",
      "H0: 7.000000e+01\r\n",
      "h: 7.000000e-01\r\n",
      "Neff: 3.046000e+00\r\n",
      "N_nu_mass: 0\r\n",
      "N_nu_rel: 3.046000e+00\r\n",
      "sum_nu_masses: 0.000000e+00\r\n",
      "Omega_n_mass: 0.000000e+00\r\n",
      "Omega_n_rel: 3.488600e-05\r\n",
      "A_s: nan\r\n",
      "n_s: 9.600000e-01\r\n",
      "Omega_g: 5.043013e-05\r\n",
      "T_CMB: 2.725000e+00\r\n",
      "bcm_log10Mc: 1.407918e+01\r\n",
      "bcm_etab: 5.000000e-01\r\n",
      "bcm_ks: 5.500000e+01\r\n",
      "sigma8: 8.000000e-01\r\n",
      "Omega_l: 6.999147e-01\r\n",
      "z_star: nan\r\n",
      "has_mgrowth: 0\r\n",
      "nz_mgrowth: 0\r\n"
     ]
    }
   ],
   "source": [
    "params.write_yaml('params.yaml')\n",
    "!cat params.yaml"
   ]
  },
  {
   "cell_type": "markdown",
   "metadata": {},
   "source": [
    "# Deserialization\n",
    "\n",
    "The parameters can be read back in using the read_yaml *class method*.  Class methods\n",
    "are attached to the class Parameters itself, rather than to any specific instance of the class.\n",
    "That means you don't need to create a parameters object first to use it:"
   ]
  },
  {
   "cell_type": "code",
   "execution_count": 4,
   "metadata": {
    "collapsed": true
   },
   "outputs": [],
   "source": [
    "params2 = Parameters.read_yaml(\"params.yaml\")"
   ]
  },
  {
   "cell_type": "code",
   "execution_count": 5,
   "metadata": {
    "collapsed": false
   },
   "outputs": [
    {
     "name": "stdout",
     "output_type": "stream",
     "text": [
      "Parameters\n",
      "----------\n",
      "        Omega_c: 0.25\n",
      "        Omega_b: 0.05\n",
      "        Omega_m: 0.3\n",
      "        Omega_k: 0.0\n",
      "        Omega_l: 0.699914683872\n",
      "             w0: -1.0\n",
      "             wa: 0.0\n",
      "             H0: 70.0\n",
      "              h: 0.7\n",
      "            A_s: nan\n",
      "            n_s: 0.96\n",
      "    bcm_log10Mc: 14.07918\n",
      "       bcm_etab: 0.5\n",
      "         bcm_ks: 55.0\n",
      "           Neff: 3.046\n",
      "            mnu: <Swig Object of type 'double *' at 0x10d0df660>\n",
      "   Omega_n_mass: 0.0\n",
      "    Omega_n_rel: 3.48859960907e-05\n",
      "          T_CMB: 2.725\n",
      "        Omega_g: 5.04301315303e-05\n",
      "         z_star: nan\n",
      "    has_mgrowth: False\n"
     ]
    }
   ],
   "source": [
    "print(params2)"
   ]
  },
  {
   "cell_type": "markdown",
   "metadata": {},
   "source": [
    "# Usage\n",
    "\n",
    "The main use of Parameters objects is to create an instance of a Cosmology object:"
   ]
  },
  {
   "cell_type": "code",
   "execution_count": 6,
   "metadata": {
    "collapsed": true
   },
   "outputs": [],
   "source": [
    "cosmo = Cosmology(params)"
   ]
  },
  {
   "cell_type": "code",
   "execution_count": 7,
   "metadata": {
    "collapsed": false
   },
   "outputs": [
    {
     "name": "stdout",
     "output_type": "stream",
     "text": [
      "Parameters\n",
      "----------\n",
      "        Omega_c: 0.25\n",
      "        Omega_b: 0.05\n",
      "        Omega_m: 0.3\n",
      "        Omega_k: 0.0\n",
      "        Omega_l: 0.699914683872\n",
      "             w0: -1.0\n",
      "             wa: 0.0\n",
      "             H0: 70.0\n",
      "              h: 0.7\n",
      "            A_s: nan\n",
      "            n_s: 0.96\n",
      "    bcm_log10Mc: 14.079181246\n",
      "       bcm_etab: 0.5\n",
      "         bcm_ks: 55.0\n",
      "           Neff: 3.046\n",
      "            mnu: <Swig Object of type 'double *' at 0x10d0df600>\n",
      "   Omega_n_mass: 0.0\n",
      "    Omega_n_rel: 3.48859960907e-05\n",
      "          T_CMB: 2.725\n",
      "        Omega_g: 5.04301315303e-05\n",
      "         z_star: nan\n",
      "    has_mgrowth: False\n",
      "\n",
      "Precomputed data\n",
      "----------------\n",
      "  has_distances: False\n",
      "     has_growth: False\n",
      "      has_power: False\n",
      "      has_sigma: False\n",
      "\n",
      "Status\n",
      "------\n",
      "status(0): \n"
     ]
    }
   ],
   "source": [
    "print(cosmo)"
   ]
  },
  {
   "cell_type": "markdown",
   "metadata": {},
   "source": [
    "This Cosmology object can then be used to obtain cosmological predictions. See the other examples in this directory, for example: Distance Calculations Example.ipynb or our more comprehensive demo: SLAC Feb2018 Demo.ipynb."
   ]
  }
 ],
 "metadata": {
  "kernelspec": {
   "display_name": "Python 2",
   "language": "python",
   "name": "python2"
  },
  "language_info": {
   "codemirror_mode": {
    "name": "ipython",
    "version": 2
   },
   "file_extension": ".py",
   "mimetype": "text/x-python",
   "name": "python",
   "nbconvert_exporter": "python",
   "pygments_lexer": "ipython2",
   "version": "2.7.15"
  }
 },
 "nbformat": 4,
 "nbformat_minor": 2
}
